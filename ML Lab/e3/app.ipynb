{
 "cells": [
  {
   "cell_type": "code",
   "execution_count": 3,
   "metadata": {},
   "outputs": [],
   "source": [
    "import pandas as pd"
   ]
  },
  {
   "cell_type": "code",
   "execution_count": 4,
   "metadata": {},
   "outputs": [
    {
     "data": {
      "text/html": [
       "<div>\n",
       "<style scoped>\n",
       "    .dataframe tbody tr th:only-of-type {\n",
       "        vertical-align: middle;\n",
       "    }\n",
       "\n",
       "    .dataframe tbody tr th {\n",
       "        vertical-align: top;\n",
       "    }\n",
       "\n",
       "    .dataframe thead th {\n",
       "        text-align: right;\n",
       "    }\n",
       "</style>\n",
       "<table border=\"1\" class=\"dataframe\">\n",
       "  <thead>\n",
       "    <tr style=\"text-align: right;\">\n",
       "      <th></th>\n",
       "      <th>Eyes</th>\n",
       "      <th>Nose</th>\n",
       "      <th>Head</th>\n",
       "      <th>Fcolor</th>\n",
       "      <th>Hair</th>\n",
       "      <th>Smile</th>\n",
       "    </tr>\n",
       "  </thead>\n",
       "  <tbody>\n",
       "    <tr>\n",
       "      <th>0</th>\n",
       "      <td>Circle</td>\n",
       "      <td>Triangle</td>\n",
       "      <td>Circle</td>\n",
       "      <td>Pink</td>\n",
       "      <td>Yes</td>\n",
       "      <td>Yes</td>\n",
       "    </tr>\n",
       "    <tr>\n",
       "      <th>1</th>\n",
       "      <td>Square</td>\n",
       "      <td>Square</td>\n",
       "      <td>Square</td>\n",
       "      <td>Green</td>\n",
       "      <td>Yes</td>\n",
       "      <td>No</td>\n",
       "    </tr>\n",
       "    <tr>\n",
       "      <th>2</th>\n",
       "      <td>Square</td>\n",
       "      <td>Triangle</td>\n",
       "      <td>Circle</td>\n",
       "      <td>Yellow</td>\n",
       "      <td>Yes</td>\n",
       "      <td>Yes</td>\n",
       "    </tr>\n",
       "    <tr>\n",
       "      <th>3</th>\n",
       "      <td>Circle</td>\n",
       "      <td>Triangle</td>\n",
       "      <td>Circle</td>\n",
       "      <td>Green</td>\n",
       "      <td>No</td>\n",
       "      <td>No</td>\n",
       "    </tr>\n",
       "    <tr>\n",
       "      <th>4</th>\n",
       "      <td>Square</td>\n",
       "      <td>Square</td>\n",
       "      <td>Circle</td>\n",
       "      <td>Yellow</td>\n",
       "      <td>Yes</td>\n",
       "      <td>Yes</td>\n",
       "    </tr>\n",
       "  </tbody>\n",
       "</table>\n",
       "</div>"
      ],
      "text/plain": [
       "     Eyes      Nose    Head  Fcolor Hair Smile\n",
       "0  Circle  Triangle  Circle    Pink  Yes   Yes\n",
       "1  Square    Square  Square   Green  Yes    No\n",
       "2  Square  Triangle  Circle  Yellow  Yes   Yes\n",
       "3  Circle  Triangle  Circle   Green   No    No\n",
       "4  Square    Square  Circle  Yellow  Yes   Yes"
      ]
     },
     "execution_count": 4,
     "metadata": {},
     "output_type": "execute_result"
    }
   ],
   "source": [
    "data = pd.read_excel('data.xslx')\n",
    "data"
   ]
  },
  {
   "cell_type": "code",
   "execution_count": 5,
   "metadata": {},
   "outputs": [],
   "source": [
    "target = data['Smile']"
   ]
  },
  {
   "cell_type": "code",
   "execution_count": 6,
   "metadata": {},
   "outputs": [],
   "source": [
    "concepts = data[data.columns[data.columns != 'Smile']].values"
   ]
  },
  {
   "cell_type": "code",
   "execution_count": 7,
   "metadata": {},
   "outputs": [
    {
     "data": {
      "text/plain": [
       "['0', '0', '0', '0', '0']"
      ]
     },
     "execution_count": 7,
     "metadata": {},
     "output_type": "execute_result"
    }
   ],
   "source": [
    "init_hyp = ['0']*concepts.shape[1]\n",
    "init_hyp"
   ]
  },
  {
   "cell_type": "code",
   "execution_count": 8,
   "metadata": {},
   "outputs": [],
   "source": [
    "rows, cols = concepts.shape\n",
    "def find_s(init_hypo):\n",
    "    for i in range(rows): \n",
    "        if (target[i] == 'Yes'):\n",
    "            for j in range(cols):\n",
    "                if init_hypo[j] == '0':\n",
    "                    init_hypo[j] = concepts[i][j]\n",
    "                elif (init_hypo[j] != concepts[i][j]):\n",
    "                    init_hypo[j] = '?'\n",
    "        print(f\"Step {i+1} Hypothesis {init_hypo}\")\n",
    "\n",
    "    return init_hypo\n"
   ]
  },
  {
   "cell_type": "code",
   "execution_count": 9,
   "metadata": {},
   "outputs": [
    {
     "name": "stdout",
     "output_type": "stream",
     "text": [
      "Inital Hypothesis: ['0', '0', '0', '0', '0']\n",
      "Step 1 Hypothesis ['Circle', 'Triangle', 'Circle', 'Pink', 'Yes']\n",
      "Step 2 Hypothesis ['Circle', 'Triangle', 'Circle', 'Pink', 'Yes']\n",
      "Step 3 Hypothesis ['?', 'Triangle', 'Circle', '?', 'Yes']\n",
      "Step 4 Hypothesis ['?', 'Triangle', 'Circle', '?', 'Yes']\n",
      "Step 5 Hypothesis ['?', '?', 'Circle', '?', 'Yes']\n",
      "Final Hypothesis: ['?', '?', 'Circle', '?', 'Yes']\n"
     ]
    }
   ],
   "source": [
    "print(f\"Inital Hypothesis: {init_hyp}\")\n",
    "final_hyp = find_s(init_hyp)\n",
    "print(f\"Final Hypothesis: {final_hyp}\")"
   ]
  }
 ],
 "metadata": {
  "kernelspec": {
   "display_name": ".venv",
   "language": "python",
   "name": "python3"
  },
  "language_info": {
   "codemirror_mode": {
    "name": "ipython",
    "version": 3
   },
   "file_extension": ".py",
   "mimetype": "text/x-python",
   "name": "python",
   "nbconvert_exporter": "python",
   "pygments_lexer": "ipython3",
   "version": "3.12.4"
  }
 },
 "nbformat": 4,
 "nbformat_minor": 2
}
