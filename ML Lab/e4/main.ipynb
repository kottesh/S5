{
 "cells": [
  {
   "cell_type": "code",
   "execution_count": 1,
   "metadata": {},
   "outputs": [],
   "source": [
    "import pandas as pd"
   ]
  },
  {
   "cell_type": "code",
   "execution_count": 2,
   "metadata": {},
   "outputs": [],
   "source": [
    "def CE(concepts, target):\n",
    "    S = concepts[0].copy()\n",
    "    G = [['?' for k in range(len(S))]  for k in range(len(S))]\n",
    "\n",
    "    print(\"Initial\")\n",
    "    print(f\"\\tSpecific Hypothesis: {S}\")\n",
    "    print(f\"\\tGeneral Hypothesis: {G}\")\n",
    "\n",
    "    for index, row in enumerate(concepts):\n",
    "        if target[index] in ['Yes', 1, 'yes']:\n",
    "            for x in range(len(S)):\n",
    "                if row[x] != S[x]:\n",
    "                    S[x] = '?'\n",
    "                    G[x][x] = '?'\n",
    "\n",
    "        elif target[index] in ['No', 'no', 0]:\n",
    "            for x in range(len(S)):\n",
    "                if row[x] != S[x]:\n",
    "                    G[x][x] = S[x]\n",
    "                else:\n",
    "                    G[x][x] = '?'\n",
    "\n",
    "\n",
    "    G = [hypo for hypo in G if any(val != '?' for val in hypo)]\n",
    "\n",
    "    return S, G"
   ]
  },
  {
   "cell_type": "code",
   "execution_count": 3,
   "metadata": {},
   "outputs": [
    {
     "name": "stdout",
     "output_type": "stream",
     "text": [
      "Initial\n",
      "\tSpecific Hypothesis: ['blond' 'thin' 'yes' 'arrogant' 'toothy' 'no']\n",
      "\tGeneral Hypothesis: [['?', '?', '?', '?', '?', '?'], ['?', '?', '?', '?', '?', '?'], ['?', '?', '?', '?', '?', '?'], ['?', '?', '?', '?', '?', '?'], ['?', '?', '?', '?', '?', '?'], ['?', '?', '?', '?', '?', '?']]\n",
      "Final\n",
      "\tSpecific Hypothesis: ['blond' '?' 'yes' '?' '?' 'no']\n",
      "\tGeneral Hypothesis: [['?', '?', 'yes', '?', '?', '?'], ['?', '?', '?', '?', '?', 'no']]\n"
     ]
    }
   ],
   "source": [
    "data_1 = {\n",
    "    'hair': ['blond', 'brown', 'blond', 'black', 'blond'],\n",
    "    'body': ['thin', 'thin', 'plump', 'thin', 'plump'],\n",
    "    'likesSimon': ['yes', 'no', 'yes', 'no', 'no'],\n",
    "    'pose': ['arrogant', 'natural', 'goofy', 'arrogant', 'natural'],\n",
    "    'smile': ['toothy', 'pleasant', 'pleasant', 'none', 'toothy'],\n",
    "    'smart': ['no', 'yes', 'no', 'no', 'yes'],\n",
    "    'c(d)': [1, 0, 1, 0, 0]\n",
    "}\n",
    "\n",
    "df = pd.DataFrame(data_1)\n",
    "target = df.iloc[:, -1].values\n",
    "concepts = df.iloc[:, :-1].values\n",
    "specific_h, general_h = CE(concepts, target)\n",
    "\n",
    "print(\"Final\")\n",
    "print(f\"\\tSpecific Hypothesis: {specific_h}\")\n",
    "print(f\"\\tGeneral Hypothesis: {general_h}\")"
   ]
  },
  {
   "cell_type": "code",
   "execution_count": 4,
   "metadata": {},
   "outputs": [
    {
     "name": "stdout",
     "output_type": "stream",
     "text": [
      "Initial\n",
      "\tSpecific Hypothesis: ['Sunny' 'Warm' 'Normal' 'Strong' 'Warm' 'Same']\n",
      "\tGeneral Hypothesis: [['?', '?', '?', '?', '?', '?'], ['?', '?', '?', '?', '?', '?'], ['?', '?', '?', '?', '?', '?'], ['?', '?', '?', '?', '?', '?'], ['?', '?', '?', '?', '?', '?'], ['?', '?', '?', '?', '?', '?']]\n",
      "Final\n",
      "\tSpecific Hypothesis: ['Sunny' 'Warm' '?' 'Strong' '?' '?']\n",
      "\tGeneral Hypothesis: [['Sunny', '?', '?', '?', '?', '?'], ['?', 'Warm', '?', '?', '?', '?']]\n"
     ]
    }
   ],
   "source": [
    "data_2 = {\n",
    "    \"Sky\": [\"Sunny\", \"Sunny\", \"Rainy\", \"Sunny\"],\n",
    "    \"AirTemp\": [\"Warm\", \"Warm\", \"Cold\", \"Warm\"],\n",
    "    \"Humidity\": [\"Normal\", \"High\", \"High\", \"High\"],\n",
    "    \"Wind\": [\"Strong\", \"Strong\", \"Strong\", \"Strong\"],\n",
    "    \"Water\": [\"Warm\", \"Warm\", \"Warm\", \"Cool\"],\n",
    "    \"Forecast\": [\"Same\", \"Same\", \"Change\", \"Change\"],\n",
    "    \"EnjoySport\": [\"Yes\", \"Yes\", \"No\", \"Yes\"]\n",
    "}\n",
    "\n",
    "df = pd.DataFrame(data_2)\n",
    "target = df.iloc[:, -1].values\n",
    "concepts = df.iloc[:, :-1].values\n",
    "\n",
    "specific_h, general_h = CE(concepts, target)\n",
    "print(\"Final\")\n",
    "print(f\"\\tSpecific Hypothesis: {specific_h}\")\n",
    "print(f\"\\tGeneral Hypothesis: {general_h}\")"
   ]
  }
 ],
 "metadata": {
  "kernelspec": {
   "display_name": ".env",
   "language": "python",
   "name": "python3"
  },
  "language_info": {
   "codemirror_mode": {
    "name": "ipython",
    "version": 3
   },
   "file_extension": ".py",
   "mimetype": "text/x-python",
   "name": "python",
   "nbconvert_exporter": "python",
   "pygments_lexer": "ipython3",
   "version": "3.12.4"
  }
 },
 "nbformat": 4,
 "nbformat_minor": 2
}
